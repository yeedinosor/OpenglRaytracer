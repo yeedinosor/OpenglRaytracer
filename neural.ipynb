{
  "nbformat": 4,
  "nbformat_minor": 0,
  "metadata": {
    "colab": {
      "provenance": [],
      "gpuType": "T4",
      "authorship_tag": "ABX9TyN1V5PCi9fbA/JjXFWYvkO2",
      "include_colab_link": true
    },
    "kernelspec": {
      "name": "python3",
      "display_name": "Python 3"
    },
    "language_info": {
      "name": "python"
    }
  },
  "cells": [
    {
      "cell_type": "markdown",
      "metadata": {
        "id": "view-in-github",
        "colab_type": "text"
      },
      "source": [
        "<a href=\"https://colab.research.google.com/github/yeedinosor/OpenglRaytracer/blob/master/neural.ipynb\" target=\"_parent\"><img src=\"https://colab.research.google.com/assets/colab-badge.svg\" alt=\"Open In Colab\"/></a>"
      ]
    },
    {
      "cell_type": "code",
      "execution_count": null,
      "metadata": {
        "id": "Tmjuqe7SV3jn"
      },
      "outputs": [],
      "source": [
        "import sys\n",
        "import matplotlib\n",
        "import pandas as pd\n",
        "import matplotlib.pyplot as plt\n",
        "import numpy as np\n",
        "from numpy import random\n",
        "import math\n",
        "import os"
      ]
    },
    {
      "cell_type": "code",
      "source": [
        "def load_mnist_dataset(path):\n",
        "  with np.load(path, allow_pickle=True) as f:\n",
        "    train_images = f['x_train']/255\n",
        "    train_labels = f['y_train']\n",
        "    test_images = f['x_test']/255\n",
        "\n",
        "    test_labels = f['y_test']\n",
        "\n",
        "\n",
        "  return train_images, train_labels, test_images, test_labels\n",
        "\n",
        "train_images, train_labels, test_images, test_labels = load_mnist_dataset(\"/content/mnist.npz\")\n",
        "train_images = np.array(train_images).reshape(60000, 28*28)\n",
        "test_images = np.array(test_images).reshape(test_labels.size, 28*28)"
      ],
      "metadata": {
        "id": "nJ5uLzXGLwj5"
      },
      "execution_count": null,
      "outputs": []
    },
    {
      "cell_type": "code",
      "source": [
        "from google.colab import drive\n",
        "drive.mount('/content/drive')"
      ],
      "metadata": {
        "colab": {
          "base_uri": "https://localhost:8080/"
        },
        "id": "DyJQdDVOv_BQ",
        "outputId": "985c17ed-6399-4189-92a6-71f7f2d45ab9"
      },
      "execution_count": null,
      "outputs": [
        {
          "output_type": "stream",
          "name": "stdout",
          "text": [
            "Mounted at /content/drive\n"
          ]
        }
      ]
    },
    {
      "cell_type": "code",
      "source": [
        "#generate random weights/biases\n",
        "sizes = np.array([train_images[0].size,10,10])\n",
        "inputs = []\n",
        "expected = np.zeros(10)\n",
        "weights = []\n",
        "biases = []\n",
        "for i in range(1,sizes.size):\n",
        "  weights.append(np.random.rand(sizes[i],sizes[i-1])-0.5)\n",
        "  biases.append(np.zeros(sizes[i]))"
      ],
      "metadata": {
        "id": "WL0vgGR0WXm6"
      },
      "execution_count": null,
      "outputs": []
    },
    {
      "cell_type": "code",
      "source": [
        "def sigmoid(x):\n",
        "  return 1/(1+math.exp(-x))\n",
        "def dsigmoid(x):\n",
        "  return sigmoid(x)*(1-sigmoid(x))\n",
        "def relu(x):\n",
        "  return np.maximum(x,0)\n",
        "def drelu(x):\n",
        "  return x>0\n",
        "def softmax(x):\n",
        "  return np.exp(x) / sum(np.exp(x))"
      ],
      "metadata": {
        "id": "233IbRbNLyqL"
      },
      "execution_count": null,
      "outputs": []
    },
    {
      "cell_type": "code",
      "source": [
        "a = []\n",
        "z = []\n",
        "def Activations():\n",
        "  global a\n",
        "  global z\n",
        "  global inputs\n",
        "  a = []\n",
        "  z = []\n",
        "  a.append(inputs)\n",
        "  z.append(inputs)\n",
        "  sum = 0\n",
        "  for i in range(1, sizes.size):\n",
        "    x = []\n",
        "    y = []\n",
        "    for j in range(sizes[i]):\n",
        "        for k in range(sizes[i-1]):\n",
        "          sum += weights[i-1][j][k]*a[i-1][k]\n",
        "        x.append(relu(sum+biases[i-1][j]))\n",
        "        y.append(sum+biases[i-1][j])\n",
        "        sum = 0\n",
        "    a.append(x)\n",
        "    z.append(y)\n",
        "  a[-1] = softmax(z[-1])\n",
        "cost = [0,0,0,0,0,0,0,0,0,0]\n",
        "def Cost():\n",
        "  global cost\n",
        "  global a\n",
        "  global expected\n",
        "  for i in range (10):\n",
        "    cost[i] += (a[-1][i]-expected[i]) * (a[-1][i]-expected[i])"
      ],
      "metadata": {
        "id": "X9lOHjDXZZPz"
      },
      "execution_count": null,
      "outputs": []
    },
    {
      "cell_type": "code",
      "source": [
        "def dCostdWeight(l, j, k):\n",
        "  global inputs\n",
        "  global cost\n",
        "  global expected\n",
        "  global weights\n",
        "  global biases\n",
        "  global a\n",
        "  global z\n",
        "  result = a[l-1][k]*dsigmoid(z[l][j])*dCostdA(l, j)\n",
        "  return result\n",
        "def dCostdBias(l, j):\n",
        "  global inputs\n",
        "  global cost\n",
        "  global expected\n",
        "  global weights\n",
        "  global biases\n",
        "  global a\n",
        "  global z\n",
        "  result = dsigmoid(z[l][j])*dCostdA(l, j)\n",
        "  return result\n",
        "def dCostdA(l, k):\n",
        "  global inputs\n",
        "  global cost\n",
        "  global expected\n",
        "  global weights\n",
        "  global biases\n",
        "  global a\n",
        "  global z\n",
        "  result = 0\n",
        "  if(l == sizes.size-1):\n",
        "    result = a[-1][k]-expected[k]\n",
        "  else:\n",
        "    for j in range(sizes[l+1]):\n",
        "      result += weights[l][j][k]*dsigmoid(z[l+1][j])*dCostdA(l+1, j)\n",
        "  return result"
      ],
      "metadata": {
        "id": "C-QumV19jCx4"
      },
      "execution_count": null,
      "outputs": []
    },
    {
      "cell_type": "code",
      "source": [
        "weights[1][1][1]"
      ],
      "metadata": {
        "colab": {
          "base_uri": "https://localhost:8080/"
        },
        "id": "QPoO_-p1Ca24",
        "outputId": "86b643cb-b660-4630-efdd-3689a77ee11a"
      },
      "execution_count": null,
      "outputs": [
        {
          "output_type": "execute_result",
          "data": {
            "text/plain": [
              "0.2243981523017814"
            ]
          },
          "metadata": {},
          "execution_count": 62
        }
      ]
    },
    {
      "cell_type": "code",
      "source": [
        "# for x in range(1000):\n",
        "#   for l in range(sizes.size-1):\n",
        "#     for j in range(sizes[l+1]):\n",
        "#       for k in range(sizes[l]):\n",
        "#         weights[l][j][k]-= dCostdWeight(l,j,k)\n",
        "#       biases[l][j]-= dCostdBias(l,j)\n",
        "#       Activations()\n",
        "#       Cost()\n",
        "costGraph = []\n",
        "def prop(batch_size):\n",
        "  global inputs\n",
        "  global cost\n",
        "  global expected\n",
        "  global weights\n",
        "  global biases\n",
        "  global a\n",
        "  global z\n",
        "  index = round(np.random.uniform(0, train_labels.size-1))\n",
        "  inputs = train_images[index]\n",
        "  expected = np.zeros(10)\n",
        "  expected[train_labels[index]] = 1\n",
        "  Activations()\n",
        "  Cost()\n",
        "dWeights = []\n",
        "dBiases = []\n",
        "# def bprop(batch_size, rate):\n",
        "#   global inputs\n",
        "#   global cost\n",
        "#   global expected\n",
        "#   global weights\n",
        "#   global biases\n",
        "#   global a\n",
        "#   global z\n",
        "#   global dWeights\n",
        "#   global dBiases\n",
        "#   for l in range(1, sizes.size):\n",
        "#       for j in range(sizes[l]):\n",
        "#         for k in range(sizes[l-1]):\n",
        "#           dWeights[l-1][j][k] -= rate*dCostdWeight(l,j,k)/batch_size\n",
        "#         dBiases[l-1][j] -= rate*dCostdBias(l,j)/batch_size\n",
        "def bprop():\n",
        "  global inputs\n",
        "  global cost\n",
        "  global expected\n",
        "  global weights\n",
        "  global biases\n",
        "  global a\n",
        "  global z\n",
        "  global dWeights\n",
        "  global dBiases\n",
        "  m = 1\n",
        "  dZ2 = a[2] - expected\n",
        "  dWeights[1] -= 1 / m * dZ2.dot(a[1])\n",
        "  dBiases[1] -= 1 / m * np.sum(dZ2)\n",
        "  dZ1 = weights[1].T.dot(dZ2) * drelu(np.array(z[1]))\n",
        "  dWeights[0] -= 1 / m * np.array([dZ1]).T.dot(np.array([inputs]))\n",
        "  dBiases[0] -= 1 / m * np.sum(dZ1)\n",
        "def train(epochs = 100, batch_size = 100, rate = 0.1):\n",
        "  global inputs\n",
        "  global cost\n",
        "  global expected\n",
        "  global weights\n",
        "  global biases\n",
        "  global a\n",
        "  global z\n",
        "  global dWeights\n",
        "  global dBiases\n",
        "  for e in range(epochs):\n",
        "    cost = [0,0,0,0,0,0,0,0,0,0]\n",
        "    dWeights = []\n",
        "    dBiases = []\n",
        "    for i in range(1,sizes.size):\n",
        "      x = []\n",
        "      dWeights.append(np.zeros((sizes[i],sizes[i-1])))\n",
        "      dBiases.append(np.zeros(sizes[i]))\n",
        "    for b in range(batch_size):\n",
        "      prop(batch_size)\n",
        "      bprop()\n",
        "    for l in range(1, sizes.size):\n",
        "      for j in range(sizes[l]):\n",
        "        for k in range(sizes[l-1]):\n",
        "          weights[l-1][j][k] += dWeights[l-1][j][k]\n",
        "        biases[l-1][j] += dBiases[l-1][j]\n",
        "    costGraph.append(np.sum(cost)/batch_size)\n",
        "    print(\"epoch: \" + str(e+1))\n",
        "train()"
      ],
      "metadata": {
        "id": "uth0t8FXPoVw",
        "colab": {
          "base_uri": "https://localhost:8080/"
        },
        "outputId": "208f9836-b941-46d7-810d-2ab6394ca52f"
      },
      "execution_count": null,
      "outputs": [
        {
          "output_type": "stream",
          "name": "stdout",
          "text": [
            "epoch: 1\n",
            "epoch: 2\n",
            "epoch: 3\n",
            "epoch: 4\n",
            "epoch: 5\n",
            "epoch: 6\n",
            "epoch: 7\n",
            "epoch: 8\n",
            "epoch: 9\n",
            "epoch: 10\n",
            "epoch: 11\n",
            "epoch: 12\n",
            "epoch: 13\n",
            "epoch: 14\n",
            "epoch: 15\n",
            "epoch: 16\n",
            "epoch: 17\n",
            "epoch: 18\n",
            "epoch: 19\n",
            "epoch: 20\n",
            "epoch: 21\n",
            "epoch: 22\n",
            "epoch: 23\n",
            "epoch: 24\n",
            "epoch: 25\n",
            "epoch: 26\n",
            "epoch: 27\n",
            "epoch: 28\n",
            "epoch: 29\n",
            "epoch: 30\n",
            "epoch: 31\n",
            "epoch: 32\n",
            "epoch: 33\n",
            "epoch: 34\n",
            "epoch: 35\n",
            "epoch: 36\n",
            "epoch: 37\n",
            "epoch: 38\n",
            "epoch: 39\n",
            "epoch: 40\n",
            "epoch: 41\n",
            "epoch: 42\n",
            "epoch: 43\n",
            "epoch: 44\n",
            "epoch: 45\n",
            "epoch: 46\n",
            "epoch: 47\n",
            "epoch: 48\n",
            "epoch: 49\n",
            "epoch: 50\n",
            "epoch: 51\n",
            "epoch: 52\n",
            "epoch: 53\n",
            "epoch: 54\n",
            "epoch: 55\n",
            "epoch: 56\n",
            "epoch: 57\n",
            "epoch: 58\n",
            "epoch: 59\n",
            "epoch: 60\n",
            "epoch: 61\n",
            "epoch: 62\n",
            "epoch: 63\n",
            "epoch: 64\n",
            "epoch: 65\n",
            "epoch: 66\n",
            "epoch: 67\n",
            "epoch: 68\n",
            "epoch: 69\n",
            "epoch: 70\n",
            "epoch: 71\n",
            "epoch: 72\n",
            "epoch: 73\n",
            "epoch: 74\n",
            "epoch: 75\n",
            "epoch: 76\n",
            "epoch: 77\n",
            "epoch: 78\n",
            "epoch: 79\n",
            "epoch: 80\n",
            "epoch: 81\n",
            "epoch: 82\n",
            "epoch: 83\n",
            "epoch: 84\n",
            "epoch: 85\n",
            "epoch: 86\n",
            "epoch: 87\n",
            "epoch: 88\n",
            "epoch: 89\n",
            "epoch: 90\n",
            "epoch: 91\n",
            "epoch: 92\n",
            "epoch: 93\n",
            "epoch: 94\n",
            "epoch: 95\n",
            "epoch: 96\n",
            "epoch: 97\n",
            "epoch: 98\n",
            "epoch: 99\n",
            "epoch: 100\n"
          ]
        }
      ]
    },
    {
      "cell_type": "code",
      "source": [
        "plt.plot(costGraph)"
      ],
      "metadata": {
        "colab": {
          "base_uri": "https://localhost:8080/",
          "height": 448
        },
        "id": "fSqUXutBwqU1",
        "outputId": "0789af66-a301-46e0-dd9b-9fe495877bef"
      },
      "execution_count": null,
      "outputs": [
        {
          "output_type": "execute_result",
          "data": {
            "text/plain": [
              "[<matplotlib.lines.Line2D at 0x77fed2689840>]"
            ]
          },
          "metadata": {},
          "execution_count": 121
        },
        {
          "output_type": "display_data",
          "data": {
            "text/plain": [
              "<Figure size 640x480 with 1 Axes>"
            ],
            "image/png": "[encoded data removed]"
          },
          "metadata": {}
        }
      ]
    },
    {
      "cell_type": "code",
      "source": [
        "dZ2 = a[2] - expected\n",
        "dZ1 = weights[1].T.dot(dZ2) * drelu(np.array(z[1]))\n",
        "np.array(inputs).shape"
      ],
      "metadata": {
        "id": "ivM2sLKUXa82",
        "colab": {
          "base_uri": "https://localhost:8080/"
        },
        "outputId": "8c6adcf5-3de8-4351-9ed5-f3254fe9ce86"
      },
      "execution_count": null,
      "outputs": [
        {
          "output_type": "execute_result",
          "data": {
            "text/plain": [
              "(784,)"
            ]
          },
          "metadata": {},
          "execution_count": 104
        }
      ]
    },
    {
      "cell_type": "code",
      "source": [
        "expected"
      ],
      "metadata": {
        "id": "1P5EC8uA90ZH"
      },
      "execution_count": null,
      "outputs": []
    },
    {
      "cell_type": "code",
      "source": [
        "print(costGraph)"
      ],
      "metadata": {
        "id": "9mx7cr8G6WWP"
      },
      "execution_count": null,
      "outputs": []
    },
    {
      "cell_type": "code",
      "source": [
        "index = round(np.random.uniform(0, test_labels.size))\n",
        "img = test_images[index]\n",
        "inputs = img\n",
        "Activations()\n",
        "\n",
        "plt.imshow(img.reshape(28,28), cmap=\"gray\")\n",
        "\n",
        "print(\"expected: \" + str(test_labels[index]))\n",
        "print(\"result: \" + str(a[-1].index(max(a[-1]))))\n",
        "print(a[-1])\n",
        "print(a[-1][a[-1].index(max(a[-1]))])\n",
        "print(a[-1][test_labels[index]])"
      ],
      "metadata": {
        "id": "7xSOdAsDl4wC"
      },
      "execution_count": null,
      "outputs": []
    },
    {
      "cell_type": "code",
      "source": [
        "accuracy = 0\n",
        "for i in range(100):\n",
        "  index = i\n",
        "  img = test_images[index]\n",
        "  inputs = img\n",
        "  Activations()\n",
        "  if(a[-1].index(max(a[-1])) == test_labels[index]):\n",
        "    accuracy += 1/100\n",
        "print(accuracy)"
      ],
      "metadata": {
        "id": "Bnj7bRWWj-FN"
      },
      "execution_count": null,
      "outputs": []
    },
    {
      "cell_type": "code",
      "source": [
        "print(round(np.size(test_labels)/10))"
      ],
      "metadata": {
        "id": "-eihNpaKAuLP"
      },
      "execution_count": null,
      "outputs": []
    }
  ]
}